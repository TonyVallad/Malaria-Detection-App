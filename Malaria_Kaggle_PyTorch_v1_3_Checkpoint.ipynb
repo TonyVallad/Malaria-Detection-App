{
  "cells": [
    {
      "cell_type": "markdown",
      "metadata": {
        "id": "YeDh-XBGE5LC"
      },
      "source": [
        "**<h1 align=\"center\">Malaria Detection - PyTorch</h1>**\n",
        "\n",
        "<p align=\"center\"><i>V1.2 - Added Device Selection</i></p>"
      ]
    },
    {
      "cell_type": "markdown",
      "metadata": {
        "id": "C_m0qX9JE5LE"
      },
      "source": [
        "## Pip installs & Imports"
      ]
    },
    {
      "cell_type": "code",
      "execution_count": 1,
      "metadata": {
        "id": "SSbqCCihE5LF"
      },
      "outputs": [],
      "source": [
        "# !pip install kagglehub\n",
        "# !pip install numpy\n",
        "# !pip install pandas\n",
        "# !pip install matplotlib\n",
        "# !pip install torch torchvision\n",
        "# !pip install tqdm"
      ]
    },
    {
      "cell_type": "code",
      "execution_count": 2,
      "metadata": {
        "id": "MRJy509xE5LH"
      },
      "outputs": [],
      "source": [
        "# For data download\n",
        "import kagglehub\n",
        "\n",
        "# For data handling and visualization\n",
        "import numpy as np\n",
        "import pandas as pd\n",
        "import matplotlib.pyplot as plt\n",
        "\n",
        "# For deep learning (PyTorch)\n",
        "import torch\n",
        "from torch import nn, optim\n",
        "from torch.utils.data.sampler import SubsetRandomSampler\n",
        "from torchvision import transforms, datasets, models\n",
        "from torchvision.models import ResNet50_Weights\n",
        "from torchvision.transforms import functional as F\n",
        "\n",
        "# For progress tracking\n",
        "from tqdm import tqdm\n",
        "\n",
        "# Miscellaneous / Utilities\n",
        "import random\n",
        "import shutil\n",
        "import os"
      ]
    },
    {
      "cell_type": "markdown",
      "metadata": {
        "id": "yvBOrglJE5LI"
      },
      "source": [
        "## Global variables"
      ]
    },
    {
      "cell_type": "markdown",
      "metadata": {
        "id": "8HD17L3UE5LJ"
      },
      "source": [
        "### Project specific variables"
      ]
    },
    {
      "cell_type": "code",
      "execution_count": 3,
      "metadata": {
        "id": "fUkp-2JDE5LK"
      },
      "outputs": [],
      "source": [
        "IMG_SIZE = 224  # Resize all images to defined size\n",
        "BATCH_SIZE = 64\n",
        "\n",
        "VALIDATION_SIZE = 0.2\n",
        "TEST_SIZE = 0.2\n",
        "\n",
        "# Device selection\n",
        "DEVICE = 'GPU'  # Options: 'TPU', 'GPU', 'CPU'\n",
        "\n",
        "# Data source selection\n",
        "SOURCE = 'kaggle'\n",
        "# DATA_DIR = kagglehub.dataset_download('iarunava/cell-images-for-detecting-malaria', download_dir='src/static/data/') # Download from Kaggle\n",
        "# DATA_DIR = 'src/static/data/downloads/extracted/ZIP.data.lhnc.nlm.nih.gov_publ_Mala_cell_imagCpSVVrJBQVm1EAGSYJgFN2ZUxCZtjRh76bGSL61Dxmg.zip/cell_images' # Local\n",
        "# DATA_DIR = '/kaggle/input/cell-images-for-detecting-malaria' # Colab\n",
        "DATA_DIR = 'src/static/data'\n",
        "\n",
        "MODEL_DIR = \"src/static/model/\"\n",
        "# MODEL_NAME = 'model.keras'\n",
        "MODEL_NAME = 'best_model.pt'\n",
        "MODEL_PATH = MODEL_DIR + MODEL_NAME"
      ]
    },
    {
      "cell_type": "markdown",
      "metadata": {
        "id": "IpO3pouIE5LM"
      },
      "source": [
        "### Colors"
      ]
    },
    {
      "cell_type": "code",
      "execution_count": 4,
      "metadata": {
        "id": "6wUp3Q0ZE5LM"
      },
      "outputs": [],
      "source": [
        "# ANSI escape codes for colored output\n",
        "GREEN = \"\\033[92m\"\n",
        "BLUE = \"\\033[94m\"\n",
        "YELLOW = \"\\033[93m\"\n",
        "RED = \"\\033[91m\"\n",
        "RESET = \"\\033[0m\"  # White"
      ]
    },
    {
      "cell_type": "markdown",
      "metadata": {
        "id": "fvztP0HlE5LO"
      },
      "source": [
        "## Device Selector"
      ]
    },
    {
      "cell_type": "code",
      "execution_count": 5,
      "metadata": {
        "colab": {
          "base_uri": "https://localhost:8080/"
        },
        "id": "C5fR-bljE5LP",
        "outputId": "cb131a52-9369-4920-a3f6-7eb3707b1bb9"
      },
      "outputs": [
        {
          "output_type": "stream",
          "name": "stdout",
          "text": [
            "\u001b[93mUsing device: \u001b[0mGPU\n"
          ]
        }
      ],
      "source": [
        "# Device selector\n",
        "if DEVICE.upper() == 'TPU':\n",
        "    try:\n",
        "        import torch_xla\n",
        "        import torch_xla.core.xla_model as xm\n",
        "        device = xm.xla_device()\n",
        "        actual_device = 'TPU'\n",
        "    except ImportError:\n",
        "        raise ImportError(\"TPU support requires torch_xla. Make sure you're running on a TPU environment like Google Colab.\")\n",
        "elif DEVICE.upper() == 'GPU':\n",
        "    if torch.cuda.is_available():\n",
        "        device = torch.device('cuda')\n",
        "        actual_device = 'GPU'\n",
        "    else:\n",
        "        device = torch.device('cpu')\n",
        "        actual_device = 'CPU (fallback)'\n",
        "elif DEVICE.upper() == 'CPU':\n",
        "    device = torch.device('cpu')\n",
        "    actual_device = 'CPU'\n",
        "else:\n",
        "    raise ValueError(\"Invalid DEVICE value. Choose from: 'TPU', 'GPU', 'CPU'.\")\n",
        "\n",
        "print(f\"{YELLOW}Using device: {RESET}{actual_device}\")"
      ]
    },
    {
      "cell_type": "markdown",
      "metadata": {
        "id": "KbQNsBFIE5LQ"
      },
      "source": [
        "## Data source"
      ]
    },
    {
      "cell_type": "code",
      "execution_count": 6,
      "metadata": {
        "colab": {
          "base_uri": "https://localhost:8080/"
        },
        "id": "op95bMPXE5LR",
        "outputId": "451f65d7-cc39-46c0-b723-e78aaf02c361"
      },
      "outputs": [
        {
          "output_type": "stream",
          "name": "stdout",
          "text": [
            "Downloading from https://www.kaggle.com/api/v1/datasets/download/iarunava/cell-images-for-detecting-malaria?dataset_version_number=1...\n"
          ]
        },
        {
          "output_type": "stream",
          "name": "stderr",
          "text": [
            "100%|██████████| 675M/675M [00:17<00:00, 39.5MB/s]"
          ]
        },
        {
          "output_type": "stream",
          "name": "stdout",
          "text": [
            "Extracting files...\n"
          ]
        },
        {
          "output_type": "stream",
          "name": "stderr",
          "text": [
            "\n"
          ]
        },
        {
          "output_type": "stream",
          "name": "stdout",
          "text": [
            "\u001b[93mCopying \u001b[0mParasitized \u001b[93mto \u001b[0msrc/static/data/Parasitized\n",
            "\u001b[93mCopying \u001b[0mUninfected \u001b[93mto \u001b[0msrc/static/data/Uninfected\n",
            "\n",
            "\u001b[93mData source:\u001b[0m\n",
            "src/static/data\n",
            "\n",
            "\u001b[93mLabels found:\u001b[0m\n",
            "['Uninfected', 'Parasitized']\n"
          ]
        }
      ],
      "source": [
        "if SOURCE == 'kaggle':\n",
        "    # Download dataset\n",
        "    downloaded_path = kagglehub.dataset_download('iarunava/cell-images-for-detecting-malaria')\n",
        "\n",
        "    # This is where the actual images live\n",
        "    source_path = os.path.join(downloaded_path, 'cell_images')\n",
        "\n",
        "    # Sanity check: skip top-level duplicates\n",
        "    top_level_dupes = ['Parasitized', 'Uninfected']\n",
        "    for folder in top_level_dupes:\n",
        "        dupe_path = os.path.join(downloaded_path, folder)\n",
        "        if os.path.exists(dupe_path):\n",
        "            print(f\"{YELLOW}Skipping top-level duplicate: {RESET}{dupe_path}\")\n",
        "\n",
        "    # Ensure target directory exists\n",
        "    os.makedirs(DATA_DIR, exist_ok=True)\n",
        "\n",
        "    # Clean up nested 'cell_images' in the target dir if it already exists\n",
        "    nested_path = os.path.join(DATA_DIR, 'cell_images')\n",
        "    if os.path.exists(nested_path):\n",
        "        print(f\"{YELLOW}Removing nested folder: {RESET}{nested_path}\")\n",
        "        shutil.rmtree(nested_path)\n",
        "\n",
        "    # Define allowed folders to copy (explicitly skip weird ones)\n",
        "    allowed_folders = ['Parasitized', 'Uninfected']\n",
        "\n",
        "    # Only copy those two\n",
        "    for folder in allowed_folders:\n",
        "        src_folder = os.path.join(source_path, folder)\n",
        "        dst_folder = os.path.join(DATA_DIR, folder)\n",
        "        if os.path.isdir(src_folder):\n",
        "            if not os.path.exists(dst_folder):\n",
        "                print(f\"{YELLOW}Copying {RESET}{folder} {YELLOW}to {RESET}{dst_folder}\")\n",
        "                shutil.copytree(src_folder, dst_folder)\n",
        "            else:\n",
        "                print(f\"{YELLOW}Skipping existing folder: {RESET}{dst_folder}\")\n",
        "# elif SOURCE == 'local':\n",
        "#     DATA_DIR = DATA_DIR + '/cell_images/'\n",
        "else:\n",
        "    raise ValueError(\"Invalid SOURCE value. Choose from: 'kaggle', 'local'\")\n",
        "\n",
        "print(f\"\\n{YELLOW}Data source:{RESET}\")\n",
        "print(DATA_DIR)\n",
        "\n",
        "print(f\"\\n{YELLOW}Labels found:{RESET}\")\n",
        "print(os.listdir(DATA_DIR))\n",
        "# print(os.listdir(DATA_DIR + '/cell_images/'))"
      ]
    },
    {
      "cell_type": "code",
      "execution_count": 7,
      "metadata": {
        "_uuid": "c4048c86251504ea2bd6499175066561d82f05ac",
        "id": "glDzwExLvYvs",
        "trusted": true,
        "colab": {
          "base_uri": "https://localhost:8080/"
        },
        "outputId": "d3c6bde4-a09f-4005-a1ff-3c6e3d1e1c1b"
      },
      "outputs": [
        {
          "output_type": "stream",
          "name": "stdout",
          "text": [
            "\u001b[92mTransforms Defined.\u001b[0m\n"
          ]
        }
      ],
      "source": [
        "# Define your transforms for the training, validation, and testing sets\n",
        "\n",
        "# Custom transform for adding Gaussian noise\n",
        "class AddGaussianNoise(object):\n",
        "    def __init__(self, mean=0., std=0.05):\n",
        "        self.mean = mean\n",
        "        self.std = std\n",
        "\n",
        "    def __call__(self, tensor):\n",
        "        return tensor + torch.randn(tensor.size()) * self.std + self.mean\n",
        "\n",
        "    def __repr__(self):\n",
        "        return f\"{self.__class__.__name__}(mean={self.mean}, std={self.std})\"\n",
        "\n",
        "# Train/Validation/Test Transforms\n",
        "\n",
        "train_transforms = transforms.Compose([\n",
        "    transforms.RandomRotation(30),\n",
        "    transforms.RandomResizedCrop(224),\n",
        "    transforms.RandomVerticalFlip(),\n",
        "    transforms.ColorJitter(contrast=0.5),  # Random contrast\n",
        "    transforms.ToTensor(),\n",
        "    AddGaussianNoise(0., 0.02),            # Add noise\n",
        "    transforms.Normalize([0.485, 0.456, 0.406],\n",
        "                         [0.229, 0.224, 0.225])\n",
        "])\n",
        "\n",
        "validation_transforms = transforms.Compose([transforms.Resize(256),\n",
        "    transforms.CenterCrop(224),\n",
        "    transforms.ToTensor(),\n",
        "    transforms.Normalize([0.485, 0.456, 0.406],\n",
        "    [0.229, 0.224, 0.225])\n",
        "])\n",
        "\n",
        "test_transforms = transforms.Compose([transforms.Resize(256),\n",
        "    transforms.CenterCrop(224),\n",
        "    transforms.ToTensor(),\n",
        "    transforms.Normalize([0.485, 0.456, 0.406],\n",
        "    [0.229, 0.224, 0.225])\n",
        "])\n",
        "\n",
        "print(f\"{GREEN}Transforms Defined.{RESET}\")"
      ]
    },
    {
      "cell_type": "markdown",
      "metadata": {
        "_uuid": "693a80046f72af973f371188ef4f5f68337c5e45",
        "id": "2XgT29JUvYvt"
      },
      "source": [
        "## Load Dataset and Split"
      ]
    },
    {
      "cell_type": "code",
      "execution_count": 8,
      "metadata": {
        "_uuid": "86969405320d0d0cfce4634d61559f8e513fd1f8",
        "id": "Tt48gAHdvYvu",
        "trusted": true,
        "colab": {
          "base_uri": "https://localhost:8080/"
        },
        "outputId": "34b2cae5-d3c3-4da1-88cd-5a11b8a416bb"
      },
      "outputs": [
        {
          "output_type": "stream",
          "name": "stdout",
          "text": [
            "\u001b[92mData loaded and transformed.\u001b[0m\n"
          ]
        }
      ],
      "source": [
        "img_dir=DATA_DIR\n",
        "train_data = datasets.ImageFolder(img_dir,transform=train_transforms)\n",
        "\n",
        "print(f\"{GREEN}Data loaded and transformed.{RESET}\")"
      ]
    },
    {
      "cell_type": "code",
      "execution_count": 9,
      "metadata": {
        "_uuid": "7955aca66f96447427238e32459b010a9459e674",
        "colab": {
          "base_uri": "https://localhost:8080/"
        },
        "id": "sAnSUO_lvYvx",
        "outputId": "6694458b-ee7a-4414-8c0b-61a776809eb2",
        "trusted": true
      },
      "outputs": [
        {
          "output_type": "stream",
          "name": "stdout",
          "text": [
            "\u001b[94mTotal length:\u001b[0m\n",
            "27558\n",
            "\n",
            "\u001b[92mTrain length:\u001b[0m\n",
            "19291\n",
            "\n",
            "\u001b[93mValidation length:\u001b[0m\n",
            "5511\n",
            "\n",
            "\u001b[93mTest length:\u001b[0m\n",
            "2756\n"
          ]
        }
      ],
      "source": [
        "# number of subprocesses to use for data loading\n",
        "num_workers = 0\n",
        "\n",
        "# percentage of training set to use as validation\n",
        "valid_size = 0.2\n",
        "\n",
        "# Percentage of training set to use as test\n",
        "test_size = 0.1\n",
        "\n",
        "# convert data to a normalized torch.FloatTensor\n",
        "transform = transforms.Compose([\n",
        "    transforms.ToTensor(),\n",
        "    transforms.Normalize((0.5, 0.5, 0.5), (0.5, 0.5, 0.5))\n",
        "    ])\n",
        "\n",
        "# obtain training indices that will be used for validation\n",
        "num_train = len(train_data)\n",
        "indices = list(range(num_train))\n",
        "np.random.shuffle(indices)\n",
        "valid_split = int(np.floor((valid_size) * num_train))\n",
        "test_split = int(np.floor((valid_size+test_size) * num_train))\n",
        "valid_idx, test_idx, train_idx = indices[:valid_split], indices[valid_split:test_split], indices[test_split:]\n",
        "\n",
        "print(f\"{BLUE}Total length:{RESET}\")\n",
        "print(num_train)\n",
        "print(f\"\\n{GREEN}Train length:{RESET}\")\n",
        "print(len(train_idx))\n",
        "print(f\"\\n{YELLOW}Validation length:{RESET}\")\n",
        "print(len(valid_idx))\n",
        "print(f\"\\n{YELLOW}Test length:{RESET}\")\n",
        "print(len(test_idx))\n",
        "\n",
        "# define samplers for obtaining training and validation batches\n",
        "train_sampler = SubsetRandomSampler(train_idx)\n",
        "valid_sampler = SubsetRandomSampler(valid_idx)\n",
        "test_sampler = SubsetRandomSampler(test_idx)\n",
        "\n",
        "# prepare data loaders (combine dataset and sampler)\n",
        "train_loader = torch.utils.data.DataLoader(train_data, batch_size=64, sampler=train_sampler, num_workers=num_workers)\n",
        "valid_loader = torch.utils.data.DataLoader(train_data, batch_size=32, sampler=valid_sampler, num_workers=num_workers)\n",
        "test_loader = torch.utils.data.DataLoader(train_data, batch_size=20, sampler=test_sampler, num_workers=num_workers)"
      ]
    },
    {
      "cell_type": "markdown",
      "metadata": {
        "_uuid": "50041f842e818a4cb38665cafc8bdc36798e97e3",
        "id": "1V3EGYX3vYvy"
      },
      "source": [
        "## Model ResNet50"
      ]
    },
    {
      "cell_type": "code",
      "execution_count": 10,
      "metadata": {
        "_uuid": "fb07bd7c2f161ffc78cb09d5107b7f3350f62f1b",
        "colab": {
          "base_uri": "https://localhost:8080/"
        },
        "id": "iNGT6s6OvYvz",
        "outputId": "b2e3d393-f93b-4f95-85aa-acd04e848904",
        "trusted": true
      },
      "outputs": [
        {
          "output_type": "stream",
          "name": "stderr",
          "text": [
            "Downloading: \"https://download.pytorch.org/models/resnet50-11ad3fa6.pth\" to /root/.cache/torch/hub/checkpoints/resnet50-11ad3fa6.pth\n",
            "100%|██████████| 97.8M/97.8M [00:01<00:00, 93.9MB/s]\n"
          ]
        },
        {
          "output_type": "stream",
          "name": "stdout",
          "text": [
            "\u001b[92mModel loaded.\u001b[0m\n",
            "\n"
          ]
        }
      ],
      "source": [
        "model = models.resnet50(weights=ResNet50_Weights.DEFAULT)\n",
        "\n",
        "for param in model.parameters():\n",
        "    param.requires_grad = False\n",
        "\n",
        "model.fc = nn.Linear(2048, 2, bias=True)\n",
        "\n",
        "fc_parameters = model.fc.parameters()\n",
        "\n",
        "for param in fc_parameters:\n",
        "    param.requires_grad = True\n",
        "\n",
        "print(f\"{GREEN}Model loaded.{RESET}\\n\")\n",
        "\n",
        "# model # Display Model details - comment out if not needed"
      ]
    },
    {
      "cell_type": "code",
      "execution_count": 11,
      "metadata": {
        "_uuid": "055d00bdda33b6d49645f94cd83109439e0cd238",
        "id": "oJiHzu5_vYv2",
        "trusted": true,
        "colab": {
          "base_uri": "https://localhost:8080/"
        },
        "outputId": "61c83bcf-5275-44fc-86ec-183b93436117"
      },
      "outputs": [
        {
          "output_type": "stream",
          "name": "stdout",
          "text": [
            "\u001b[92mCross entropy loss and SGD optimizer loaded.\u001b[0m\n",
            "\n"
          ]
        }
      ],
      "source": [
        "if actual_device == 'GPU': # See later if I can relocate this to Model selection\n",
        "    use_cuda = torch.cuda.is_available()\n",
        "\n",
        "    if use_cuda:\n",
        "        model = model.cuda()\n",
        "\n",
        "criterion = nn.CrossEntropyLoss()\n",
        "optimizer = optim.SGD(model.fc.parameters(), lr=0.001 , momentum=0.9)\n",
        "\n",
        "print(f\"{GREEN}Cross entropy loss and SGD optimizer loaded.{RESET}\\n\")"
      ]
    },
    {
      "cell_type": "markdown",
      "metadata": {
        "_uuid": "ff47e88ab79c7bde1cefd3c2ea97fa177010f5a1",
        "id": "tQF9a714vYv2"
      },
      "source": [
        "## Model Training"
      ]
    },
    {
      "cell_type": "code",
      "execution_count": 12,
      "metadata": {
        "_uuid": "a256dad508dc7acd182e1df6faad1287d540b842",
        "id": "qzL0vYhwvYv3",
        "trusted": true
      },
      "outputs": [],
      "source": [
        "def train(n_epochs, model, optimizer, criterion, use_cuda, save_path, patience=5):\n",
        "    \"\"\"Train model with early stopping, tqdm, and accuracy tracking.\"\"\"\n",
        "\n",
        "    valid_loss_min = np.inf\n",
        "    epochs_no_improve = 0\n",
        "    best_model_wts = None\n",
        "    train_losses = []\n",
        "    val_losses = []\n",
        "    train_accuracies = []\n",
        "    val_accuracies = []\n",
        "\n",
        "    for epoch in range(1, n_epochs + 1):\n",
        "        train_loss = 0.0\n",
        "        valid_loss = 0.0\n",
        "        correct_train = 0\n",
        "        total_train = 0\n",
        "        correct_val = 0\n",
        "        total_val = 0\n",
        "\n",
        "        ###################\n",
        "        # train the model #\n",
        "        ###################\n",
        "        model.train()\n",
        "        train_loader_tqdm = tqdm(train_loader, desc=f\"{YELLOW}Epoch {RESET}{epoch}/{n_epochs} [{YELLOW}Training{RESET}]\", leave=False)\n",
        "\n",
        "        for batch_idx, (data, target) in enumerate(train_loader_tqdm):\n",
        "            if use_cuda:\n",
        "                data, target = data.cuda(), target.cuda()\n",
        "\n",
        "            optimizer.zero_grad()\n",
        "            output = model(data)\n",
        "            loss = criterion(output, target)\n",
        "            loss.backward()\n",
        "            optimizer.step()\n",
        "\n",
        "            train_loss = train_loss + ((1 / (batch_idx + 1)) * (loss.data - train_loss))\n",
        "\n",
        "            # Accuracy\n",
        "            _, predicted = torch.max(output.data, 1)\n",
        "            correct_train += (predicted == target).sum().item()\n",
        "            total_train += target.size(0)\n",
        "\n",
        "            train_loader_tqdm.set_postfix(loss=train_loss.item())\n",
        "\n",
        "        ######################\n",
        "        # validate the model #\n",
        "        ######################\n",
        "        model.eval()\n",
        "        with torch.no_grad():\n",
        "            valid_loader_tqdm = tqdm(valid_loader, desc=f\"{GREEN}Epoch {RESET}{epoch}/{n_epochs} [{GREEN}Validation{RESET}]\", leave=False)\n",
        "\n",
        "            for batch_idx, (data, target) in enumerate(valid_loader_tqdm):\n",
        "                if use_cuda:\n",
        "                    data, target = data.cuda(), target.cuda()\n",
        "\n",
        "                output = model(data)\n",
        "                loss = criterion(output, target)\n",
        "                valid_loss = valid_loss + ((1 / (batch_idx + 1)) * (loss.data - valid_loss))\n",
        "\n",
        "                # Accuracy\n",
        "                _, predicted = torch.max(output.data, 1)\n",
        "                correct_val += (predicted == target).sum().item()\n",
        "                total_val += target.size(0)\n",
        "\n",
        "                valid_loader_tqdm.set_postfix(val_loss=valid_loss.item())\n",
        "\n",
        "        # Accuracy calculations\n",
        "        train_accuracy = 100 * correct_train / total_train\n",
        "        val_accuracy = 100 * correct_val / total_val\n",
        "\n",
        "        # Save stats\n",
        "        train_losses.append(train_loss.item())\n",
        "        val_losses.append(valid_loss.item())\n",
        "        train_accuracies.append(train_accuracy)\n",
        "        val_accuracies.append(val_accuracy)\n",
        "\n",
        "        # Print stats\n",
        "        print(f\"{GREEN}Epoch: {RESET}{epoch} \"\n",
        "              f\"\\t{BLUE}Train Loss: {RESET}{train_loss:.6f} | {BLUE}Train Acc: {RESET}{train_accuracy:.2f}% \"\n",
        "              f\"\\t{BLUE}Val Loss: {RESET}{valid_loss:.6f} | {BLUE}Val Acc: {RESET}{val_accuracy:.2f}%\")\n",
        "\n",
        "        ########################\n",
        "        # early stopping check #\n",
        "        ########################\n",
        "        if valid_loss < valid_loss_min:\n",
        "            torch.save(model.state_dict(), save_path)\n",
        "            print(f\"{YELLOW}Validation loss decreased {RESET}({valid_loss_min:.6f} --> {valid_loss:.6f}). {YELLOW}Saving model...{RESET}\\n\")\n",
        "            valid_loss_min = valid_loss\n",
        "            epochs_no_improve = 0\n",
        "            best_model_wts = model.state_dict()\n",
        "        else:\n",
        "            epochs_no_improve += 1\n",
        "            print(f\"{YELLOW}No improvement in validation loss for {epochs_no_improve} epoch(s).{RESET}\\n\")\n",
        "\n",
        "        if epochs_no_improve >= patience:\n",
        "            print(f\"\\n{YELLOW}Early stopping triggered after {patience} epochs with no improvement.{RESET}\")\n",
        "            break\n",
        "\n",
        "    if best_model_wts:\n",
        "        model.load_state_dict(best_model_wts)\n",
        "\n",
        "    return model, train_losses, val_losses, train_accuracies, val_accuracies"
      ]
    },
    {
      "cell_type": "code",
      "execution_count": 13,
      "metadata": {
        "colab": {
          "base_uri": "https://localhost:8080/"
        },
        "id": "zVYnV4eCE5LV",
        "outputId": "ab34000f-f8fb-4a5b-e589-20f4522c2edc"
      },
      "outputs": [
        {
          "output_type": "stream",
          "name": "stdout",
          "text": [
            "\u001b[93mUsing device: \u001b[0mGPU\n"
          ]
        }
      ],
      "source": [
        "# Display selected device\n",
        "print(f\"{YELLOW}Using device: {RESET}{actual_device}\")"
      ]
    },
    {
      "cell_type": "code",
      "execution_count": 14,
      "metadata": {
        "_uuid": "9a555ea1d6f11757caac6efb04d89828feaacd62",
        "colab": {
          "base_uri": "https://localhost:8080/"
        },
        "id": "8NG7zoZ-vYv4",
        "outputId": "eb4e435e-e9ea-4cb7-8de1-42b74ff133cc",
        "trusted": true
      },
      "outputs": [
        {
          "output_type": "stream",
          "name": "stdout",
          "text": [
            "\u001b[93mCreated directory: \u001b[0msrc/static/model/\n",
            "\n"
          ]
        },
        {
          "output_type": "stream",
          "name": "stderr",
          "text": []
        },
        {
          "output_type": "stream",
          "name": "stdout",
          "text": [
            "\u001b[92mEpoch: \u001b[0m1 \t\u001b[94mTrain Loss: \u001b[0m0.559841 | \u001b[94mTrain Acc: \u001b[0m74.03% \t\u001b[94mVal Loss: \u001b[0m0.488628 | \u001b[94mVal Acc: \u001b[0m79.19%\n",
            "\u001b[93mValidation loss decreased \u001b[0m(inf --> 0.488628). \u001b[93mSaving model...\u001b[0m\n",
            "\n"
          ]
        },
        {
          "output_type": "stream",
          "name": "stderr",
          "text": []
        },
        {
          "output_type": "stream",
          "name": "stdout",
          "text": [
            "\u001b[92mEpoch: \u001b[0m2 \t\u001b[94mTrain Loss: \u001b[0m0.471635 | \u001b[94mTrain Acc: \u001b[0m79.36% \t\u001b[94mVal Loss: \u001b[0m0.452167 | \u001b[94mVal Acc: \u001b[0m80.20%\n",
            "\u001b[93mValidation loss decreased \u001b[0m(0.488628 --> 0.452167). \u001b[93mSaving model...\u001b[0m\n",
            "\n"
          ]
        },
        {
          "output_type": "stream",
          "name": "stderr",
          "text": []
        },
        {
          "output_type": "stream",
          "name": "stdout",
          "text": [
            "\u001b[92mEpoch: \u001b[0m3 \t\u001b[94mTrain Loss: \u001b[0m0.442887 | \u001b[94mTrain Acc: \u001b[0m80.59% \t\u001b[94mVal Loss: \u001b[0m0.434394 | \u001b[94mVal Acc: \u001b[0m80.49%\n",
            "\u001b[93mValidation loss decreased \u001b[0m(0.452167 --> 0.434394). \u001b[93mSaving model...\u001b[0m\n",
            "\n"
          ]
        },
        {
          "output_type": "stream",
          "name": "stderr",
          "text": []
        },
        {
          "output_type": "stream",
          "name": "stdout",
          "text": [
            "\u001b[92mEpoch: \u001b[0m4 \t\u001b[94mTrain Loss: \u001b[0m0.433076 | \u001b[94mTrain Acc: \u001b[0m80.50% \t\u001b[94mVal Loss: \u001b[0m0.415242 | \u001b[94mVal Acc: \u001b[0m81.49%\n",
            "\u001b[93mValidation loss decreased \u001b[0m(0.434394 --> 0.415242). \u001b[93mSaving model...\u001b[0m\n",
            "\n"
          ]
        },
        {
          "output_type": "stream",
          "name": "stderr",
          "text": []
        },
        {
          "output_type": "stream",
          "name": "stdout",
          "text": [
            "\u001b[92mEpoch: \u001b[0m5 \t\u001b[94mTrain Loss: \u001b[0m0.426322 | \u001b[94mTrain Acc: \u001b[0m80.94% \t\u001b[94mVal Loss: \u001b[0m0.419074 | \u001b[94mVal Acc: \u001b[0m81.75%\n",
            "\u001b[93mNo improvement in validation loss for 1 epoch(s).\u001b[0m\n",
            "\n"
          ]
        },
        {
          "output_type": "stream",
          "name": "stderr",
          "text": []
        },
        {
          "output_type": "stream",
          "name": "stdout",
          "text": [
            "\u001b[92mEpoch: \u001b[0m6 \t\u001b[94mTrain Loss: \u001b[0m0.418764 | \u001b[94mTrain Acc: \u001b[0m81.63% \t\u001b[94mVal Loss: \u001b[0m0.408799 | \u001b[94mVal Acc: \u001b[0m82.51%\n",
            "\u001b[93mValidation loss decreased \u001b[0m(0.415242 --> 0.408799). \u001b[93mSaving model...\u001b[0m\n",
            "\n"
          ]
        },
        {
          "output_type": "stream",
          "name": "stderr",
          "text": []
        },
        {
          "output_type": "stream",
          "name": "stdout",
          "text": [
            "\u001b[92mEpoch: \u001b[0m7 \t\u001b[94mTrain Loss: \u001b[0m0.414358 | \u001b[94mTrain Acc: \u001b[0m81.31% \t\u001b[94mVal Loss: \u001b[0m0.402844 | \u001b[94mVal Acc: \u001b[0m82.25%\n",
            "\u001b[93mValidation loss decreased \u001b[0m(0.408799 --> 0.402844). \u001b[93mSaving model...\u001b[0m\n",
            "\n"
          ]
        },
        {
          "output_type": "stream",
          "name": "stderr",
          "text": []
        },
        {
          "output_type": "stream",
          "name": "stdout",
          "text": [
            "\u001b[92mEpoch: \u001b[0m8 \t\u001b[94mTrain Loss: \u001b[0m0.408768 | \u001b[94mTrain Acc: \u001b[0m82.02% \t\u001b[94mVal Loss: \u001b[0m0.393263 | \u001b[94mVal Acc: \u001b[0m83.41%\n",
            "\u001b[93mValidation loss decreased \u001b[0m(0.402844 --> 0.393263). \u001b[93mSaving model...\u001b[0m\n",
            "\n"
          ]
        },
        {
          "output_type": "stream",
          "name": "stderr",
          "text": []
        },
        {
          "output_type": "stream",
          "name": "stdout",
          "text": [
            "\u001b[92mEpoch: \u001b[0m9 \t\u001b[94mTrain Loss: \u001b[0m0.408297 | \u001b[94mTrain Acc: \u001b[0m81.83% \t\u001b[94mVal Loss: \u001b[0m0.401710 | \u001b[94mVal Acc: \u001b[0m81.91%\n",
            "\u001b[93mNo improvement in validation loss for 1 epoch(s).\u001b[0m\n",
            "\n"
          ]
        },
        {
          "output_type": "stream",
          "name": "stderr",
          "text": []
        },
        {
          "output_type": "stream",
          "name": "stdout",
          "text": [
            "\u001b[92mEpoch: \u001b[0m10 \t\u001b[94mTrain Loss: \u001b[0m0.404459 | \u001b[94mTrain Acc: \u001b[0m82.12% \t\u001b[94mVal Loss: \u001b[0m0.401595 | \u001b[94mVal Acc: \u001b[0m82.42%\n",
            "\u001b[93mNo improvement in validation loss for 2 epoch(s).\u001b[0m\n",
            "\n"
          ]
        },
        {
          "output_type": "stream",
          "name": "stderr",
          "text": [
            "                                                                                         "
          ]
        },
        {
          "output_type": "stream",
          "name": "stdout",
          "text": [
            "\u001b[92mEpoch: \u001b[0m11 \t\u001b[94mTrain Loss: \u001b[0m0.395766 | \u001b[94mTrain Acc: \u001b[0m82.60% \t\u001b[94mVal Loss: \u001b[0m0.400426 | \u001b[94mVal Acc: \u001b[0m82.27%\n",
            "\u001b[93mNo improvement in validation loss for 3 epoch(s).\u001b[0m\n",
            "\n",
            "\n",
            "\u001b[93mEarly stopping triggered after 3 epochs with no improvement.\u001b[0m\n"
          ]
        },
        {
          "output_type": "stream",
          "name": "stderr",
          "text": [
            "\r"
          ]
        }
      ],
      "source": [
        "# Check if folder exists, and create it if it doesn't\n",
        "if not os.path.exists(MODEL_DIR):\n",
        "    os.makedirs(MODEL_DIR)\n",
        "    print(f\"{YELLOW}Created directory: {RESET}{MODEL_DIR}\\n\")\n",
        "else:\n",
        "    print(f\"{YELLOW}Directory already exists: {RESET}{MODEL_DIR}\\n\")\n",
        "\n",
        "# Start Model Training\n",
        "# train(25, model, optimizer, criterion, use_cuda, 'malaria_detection.pt') # Old Model\n",
        "# trained_model = train(25, model, optimizer, criterion, use_cuda, save_path=MODEL_PATH, patience=3)\n",
        "\n",
        "model, train_losses, val_losses, train_acc, val_acc = train(\n",
        "    n_epochs=25,\n",
        "    model=model,\n",
        "    optimizer=optimizer,\n",
        "    criterion=criterion,\n",
        "    use_cuda=use_cuda,\n",
        "    save_path=MODEL_PATH,\n",
        "    patience=3\n",
        ")"
      ]
    },
    {
      "cell_type": "markdown",
      "metadata": {
        "id": "54Dci6lLE5LW"
      },
      "source": [
        "## Display Training Metrics"
      ]
    },
    {
      "cell_type": "code",
      "execution_count": 15,
      "metadata": {
        "id": "12XIXkfsE5LW"
      },
      "outputs": [],
      "source": [
        "def plot_training_metrics(train_losses, val_losses, train_acc, val_acc):\n",
        "    epochs = range(1, len(train_losses) + 1)\n",
        "\n",
        "    fig, (ax1, ax2) = plt.subplots(1, 2, figsize=(14, 5))\n",
        "\n",
        "    # Loss plot\n",
        "    ax1.plot(epochs, train_losses, label='Training Loss')\n",
        "    ax1.plot(epochs, val_losses, label='Validation Loss')\n",
        "    ax1.set_title('Loss over Epochs')\n",
        "    ax1.set_xlabel('Epoch')\n",
        "    ax1.set_ylabel('Loss')\n",
        "    ax1.legend()\n",
        "    ax1.grid(True)\n",
        "\n",
        "    # Accuracy plot\n",
        "    ax2.plot(epochs, train_acc, label='Training Accuracy')\n",
        "    ax2.plot(epochs, val_acc, label='Validation Accuracy')\n",
        "    ax2.set_title('Accuracy over Epochs')\n",
        "    ax2.set_xlabel('Epoch')\n",
        "    ax2.set_ylabel('Accuracy (%)')\n",
        "    ax2.legend()\n",
        "    ax2.grid(True)\n",
        "\n",
        "    plt.tight_layout()\n",
        "    plt.show()"
      ]
    },
    {
      "cell_type": "code",
      "execution_count": 16,
      "metadata": {
        "colab": {
          "base_uri": "https://localhost:8080/",
          "height": 507
        },
        "id": "5cFf0t7rE5LW",
        "outputId": "19a1b0d0-b308-4e12-8989-466a193743f8"
      },
      "outputs": [
        {
          "output_type": "display_data",
          "data": {
            "text/plain": [
              "<Figure size 1400x500 with 2 Axes>"
            ],
            "image/png": "[encoded data removed]"
          },
          "metadata": {}
        }
      ],
      "source": [
        "# Display training metrics\n",
        "plot_training_metrics(train_losses, val_losses, train_acc, val_acc)"
      ]
    },
    {
      "cell_type": "code",
      "execution_count": 16,
      "metadata": {
        "id": "fRbID0urE5LX"
      },
      "outputs": [],
      "source": []
    }
  ],
  "metadata": {
    "accelerator": "GPU",
    "colab": {
      "gpuType": "T4",
      "provenance": []
    },
    "kaggle": {
      "accelerator": "gpu",
      "dataSources": [
        {
          "datasetId": 87153,
          "sourceId": 200743,
          "sourceType": "datasetVersion"
        }
      ],
      "dockerImageVersionId": 19667,
      "isGpuEnabled": true,
      "isInternetEnabled": false,
      "language": "python",
      "sourceType": "notebook"
    },
    "kernelspec": {
      "display_name": "Python 3",
      "name": "python3"
    },
    "language_info": {
      "codemirror_mode": {
        "name": "ipython",
        "version": 3
      },
      "file_extension": ".py",
      "mimetype": "text/x-python",
      "name": "python",
      "nbconvert_exporter": "python",
      "pygments_lexer": "ipython3",
      "version": "3.12.9"
    }
  },
  "nbformat": 4,
  "nbformat_minor": 0
}