{
 "cells": [
  {
   "cell_type": "markdown",
   "metadata": {
    "id": "YeDh-XBGE5LC"
   },
   "source": [
    "**<h1 align=\"center\">Malaria Detection - PyTorch</h1>**\n",
    "\n",
    "<p align=\"center\"><i>V1.3 - Added Checkpoints</i></p>"
   ]
  },
  {
   "cell_type": "markdown",
   "metadata": {
    "id": "C_m0qX9JE5LE"
   },
   "source": [
    "## Pip installs & Imports"
   ]
  },
  {
   "cell_type": "markdown",
   "metadata": {},
   "source": [
    "### Uncomment the following lines to install the required packages during first run"
   ]
  },
  {
   "cell_type": "code",
   "execution_count": 181,
   "metadata": {
    "id": "SSbqCCihE5LF"
   },
   "outputs": [],
   "source": [
    "# !pip install kagglehub\n",
    "# !pip install numpy\n",
    "# !pip install pandas\n",
    "# !pip install matplotlib\n",
    "# !pip install torch torchvision\n",
    "# !pip install tqdm"
   ]
  },
  {
   "cell_type": "markdown",
   "metadata": {},
   "source": [
    "### Imports"
   ]
  },
  {
   "cell_type": "code",
   "execution_count": 182,
   "metadata": {
    "id": "MRJy509xE5LH"
   },
   "outputs": [],
   "source": [
    "# For data download\n",
    "import kagglehub\n",
    "\n",
    "# For data handling and visualization\n",
    "import numpy as np\n",
    "import pandas as pd\n",
    "import matplotlib.pyplot as plt\n",
    "\n",
    "# For deep learning (PyTorch)\n",
    "import torch\n",
    "from torch import nn, optim\n",
    "from torch.utils.data.sampler import SubsetRandomSampler\n",
    "from torchvision import transforms, datasets, models\n",
    "from torchvision.models import ResNet50_Weights\n",
    "from torchvision.transforms import functional as F\n",
    "\n",
    "# For progress tracking\n",
    "from tqdm import tqdm\n",
    "\n",
    "# Miscellaneous / Utilities\n",
    "import random\n",
    "import shutil\n",
    "import os"
   ]
  },
  {
   "cell_type": "markdown",
   "metadata": {
    "id": "yvBOrglJE5LI"
   },
   "source": [
    "## Global variables"
   ]
  },
  {
   "cell_type": "markdown",
   "metadata": {
    "id": "8HD17L3UE5LJ"
   },
   "source": [
    "### Project specific variables"
   ]
  },
  {
   "cell_type": "code",
   "execution_count": 183,
   "metadata": {
    "id": "fUkp-2JDE5LK"
   },
   "outputs": [],
   "source": [
    "# Hyperparameters\n",
    "IMG_SIZE = 224  # Resize all images to defined size\n",
    "BATCH_SIZE = 32\n",
    "N_EPOCHS = 50\n",
    "PATIENCE = 5  # Number of epochs with no improvement before early stopping\n",
    "LEARNING_RATE = 0.001\n",
    "NUM_CLASSES = 2\n",
    "\n",
    "# Split ratios\n",
    "VALIDATION_SIZE = 0.2\n",
    "TEST_SIZE = 0.2\n",
    "\n",
    "# Device selection\n",
    "DEVICE = 'GPU'  # Options: 'TPU', 'GPU', 'CPU'\n",
    "USE_MODEL = 'ultrafast'  # Options: 'resnet50', 'custom', 'simple', 'ultrafast', 'seb'\n",
    "\n",
    "# Data source selection\n",
    "SOURCE = 'kaggle'\n",
    "DATA_DIR = 'src/static/data'\n",
    "\n",
    "# Model saving\n",
    "MODEL_DIR = \"src/static/model/\"\n",
    "MODEL_NAME = 'best_model.pt'\n",
    "MODEL_PATH = MODEL_DIR + MODEL_NAME"
   ]
  },
  {
   "cell_type": "markdown",
   "metadata": {
    "id": "IpO3pouIE5LM"
   },
   "source": [
    "### Colors"
   ]
  },
  {
   "cell_type": "code",
   "execution_count": 184,
   "metadata": {
    "id": "6wUp3Q0ZE5LM"
   },
   "outputs": [],
   "source": [
    "# ANSI escape codes for colored output\n",
    "GREEN = \"\\033[92m\"\n",
    "BLUE = \"\\033[94m\"\n",
    "YELLOW = \"\\033[93m\"\n",
    "RED = \"\\033[91m\"\n",
    "RESET = \"\\033[0m\"  # White"
   ]
  },
  {
   "cell_type": "markdown",
   "metadata": {
    "id": "fvztP0HlE5LO"
   },
   "source": [
    "## Device Selector"
   ]
  },
  {
   "cell_type": "code",
   "execution_count": 185,
   "metadata": {
    "colab": {
     "base_uri": "https://localhost:8080/"
    },
    "id": "C5fR-bljE5LP",
    "outputId": "cb131a52-9369-4920-a3f6-7eb3707b1bb9"
   },
   "outputs": [
    {
     "name": "stdout",
     "output_type": "stream",
     "text": [
      "\u001b[93mUsing device: \u001b[0mCPU (fallback)\n"
     ]
    }
   ],
   "source": [
    "# Device selector\n",
    "if DEVICE.upper() == 'TPU':\n",
    "    try:\n",
    "        import torch_xla\n",
    "        import torch_xla.core.xla_model as xm\n",
    "        device = xm.xla_device()\n",
    "        actual_device = 'TPU'\n",
    "    except ImportError:\n",
    "        raise ImportError(\"TPU support requires torch_xla. Make sure you're running on a TPU environment like Google Colab.\")\n",
    "elif DEVICE.upper() == 'GPU':\n",
    "    if torch.cuda.is_available():\n",
    "        device = torch.device('cuda')\n",
    "        actual_device = 'GPU'\n",
    "    else:\n",
    "        device = torch.device('cpu')\n",
    "        actual_device = 'CPU (fallback)'\n",
    "        use_cuda = False\n",
    "elif DEVICE.upper() == 'CPU':\n",
    "    device = torch.device('cpu')\n",
    "    actual_device = 'CPU'\n",
    "    use_cuda = False\n",
    "else:\n",
    "    raise ValueError(\"Invalid DEVICE value. Choose from: 'TPU', 'GPU', 'CPU'.\")\n",
    "\n",
    "print(f\"{YELLOW}Using device: {RESET}{actual_device}\")"
   ]
  },
  {
   "cell_type": "markdown",
   "metadata": {
    "id": "KbQNsBFIE5LQ"
   },
   "source": [
    "## Data source"
   ]
  },
  {
   "cell_type": "code",
   "execution_count": 186,
   "metadata": {
    "colab": {
     "base_uri": "https://localhost:8080/"
    },
    "id": "op95bMPXE5LR",
    "outputId": "451f65d7-cc39-46c0-b723-e78aaf02c361"
   },
   "outputs": [
    {
     "name": "stdout",
     "output_type": "stream",
     "text": [
      "\u001b[93mSkipping existing folder: \u001b[0msrc/static/data\\Parasitized\n",
      "\u001b[93mSkipping existing folder: \u001b[0msrc/static/data\\Uninfected\n",
      "\n",
      "\u001b[93mData source:\u001b[0m\n",
      "src/static/data\n",
      "\n",
      "\u001b[93mLabels found:\u001b[0m\n",
      "['Parasitized', 'Uninfected']\n"
     ]
    }
   ],
   "source": [
    "if SOURCE == 'kaggle':\n",
    "    # Download dataset\n",
    "    downloaded_path = kagglehub.dataset_download('iarunava/cell-images-for-detecting-malaria')\n",
    "\n",
    "    # This is where the actual images live\n",
    "    source_path = os.path.join(downloaded_path, 'cell_images')\n",
    "\n",
    "    # Sanity check: skip top-level duplicates\n",
    "    top_level_dupes = ['Parasitized', 'Uninfected']\n",
    "    for folder in top_level_dupes:\n",
    "        dupe_path = os.path.join(downloaded_path, folder)\n",
    "        if os.path.exists(dupe_path):\n",
    "            print(f\"{YELLOW}Skipping top-level duplicate: {RESET}{dupe_path}\")\n",
    "\n",
    "    # Ensure target directory exists\n",
    "    os.makedirs(DATA_DIR, exist_ok=True)\n",
    "\n",
    "    # Clean up nested 'cell_images' in the target dir if it already exists\n",
    "    nested_path = os.path.join(DATA_DIR, 'cell_images')\n",
    "    if os.path.exists(nested_path):\n",
    "        print(f\"{YELLOW}Removing nested folder: {RESET}{nested_path}\")\n",
    "        shutil.rmtree(nested_path)\n",
    "\n",
    "    # Define allowed folders to copy (explicitly skip weird ones)\n",
    "    allowed_folders = ['Parasitized', 'Uninfected']\n",
    "\n",
    "    # Only copy those two\n",
    "    for folder in allowed_folders:\n",
    "        src_folder = os.path.join(source_path, folder)\n",
    "        dst_folder = os.path.join(DATA_DIR, folder)\n",
    "        if os.path.isdir(src_folder):\n",
    "            if not os.path.exists(dst_folder):\n",
    "                print(f\"{YELLOW}Copying {RESET}{folder} {YELLOW}to {RESET}{dst_folder}\")\n",
    "                shutil.copytree(src_folder, dst_folder)\n",
    "            else:\n",
    "                print(f\"{YELLOW}Skipping existing folder: {RESET}{dst_folder}\")\n",
    "# elif SOURCE == 'local':\n",
    "#     DATA_DIR = DATA_DIR + '/cell_images/'\n",
    "else:\n",
    "    raise ValueError(\"Invalid SOURCE value. Choose from: 'kaggle', 'local'\")\n",
    "\n",
    "print(f\"\\n{YELLOW}Data source:{RESET}\")\n",
    "print(DATA_DIR)\n",
    "\n",
    "print(f\"\\n{YELLOW}Labels found:{RESET}\")\n",
    "print(os.listdir(DATA_DIR))\n",
    "# print(os.listdir(DATA_DIR + '/cell_images/'))"
   ]
  },
  {
   "cell_type": "code",
   "execution_count": 187,
   "metadata": {
    "_uuid": "c4048c86251504ea2bd6499175066561d82f05ac",
    "colab": {
     "base_uri": "https://localhost:8080/"
    },
    "id": "glDzwExLvYvs",
    "outputId": "d3c6bde4-a09f-4005-a1ff-3c6e3d1e1c1b"
   },
   "outputs": [
    {
     "name": "stdout",
     "output_type": "stream",
     "text": [
      "\u001b[92mTransforms Defined.\u001b[0m\n"
     ]
    }
   ],
   "source": [
    "# Define your transforms for the training, validation, and testing sets\n",
    "\n",
    "# Custom transform for adding Gaussian noise\n",
    "class AddGaussianNoise(object):\n",
    "    def __init__(self, mean=0., std=0.05):\n",
    "        self.mean = mean\n",
    "        self.std = std\n",
    "\n",
    "    def __call__(self, tensor):\n",
    "        return tensor + torch.randn(tensor.size()) * self.std + self.mean\n",
    "\n",
    "    def __repr__(self):\n",
    "        return f\"{self.__class__.__name__}(mean={self.mean}, std={self.std})\"\n",
    "\n",
    "# Train/Validation/Test Transforms\n",
    "\n",
    "train_transforms = transforms.Compose([\n",
    "    transforms.RandomRotation(10),\n",
    "    transforms.RandomResizedCrop(224),\n",
    "    transforms.RandomVerticalFlip(),\n",
    "    # transforms.ColorJitter(brightness=0.2, contrast=0.5),  # Random brightness and contrast\n",
    "    transforms.ToTensor(),\n",
    "    # AddGaussianNoise(0., 0.02),            # Add noise\n",
    "    transforms.Normalize([0.485, 0.456, 0.406],\n",
    "                         [0.229, 0.224, 0.225])\n",
    "])\n",
    "\n",
    "validation_transforms = transforms.Compose([transforms.Resize(256),\n",
    "    transforms.CenterCrop(224),\n",
    "    transforms.ToTensor(),\n",
    "    transforms.Normalize([0.485, 0.456, 0.406],\n",
    "    [0.229, 0.224, 0.225])\n",
    "])\n",
    "\n",
    "test_transforms = transforms.Compose([transforms.Resize(256),\n",
    "    transforms.CenterCrop(224),\n",
    "    transforms.ToTensor(),\n",
    "    transforms.Normalize([0.485, 0.456, 0.406],\n",
    "    [0.229, 0.224, 0.225])\n",
    "])\n",
    "\n",
    "print(f\"{GREEN}Transforms Defined.{RESET}\")"
   ]
  },
  {
   "cell_type": "markdown",
   "metadata": {
    "_uuid": "693a80046f72af973f371188ef4f5f68337c5e45",
    "id": "2XgT29JUvYvt"
   },
   "source": [
    "## Load Dataset and Split"
   ]
  },
  {
   "cell_type": "code",
   "execution_count": 188,
   "metadata": {
    "_uuid": "86969405320d0d0cfce4634d61559f8e513fd1f8",
    "colab": {
     "base_uri": "https://localhost:8080/"
    },
    "id": "Tt48gAHdvYvu",
    "outputId": "34b2cae5-d3c3-4da1-88cd-5a11b8a416bb"
   },
   "outputs": [
    {
     "name": "stdout",
     "output_type": "stream",
     "text": [
      "\u001b[92mData loaded and transformed.\u001b[0m\n"
     ]
    }
   ],
   "source": [
    "img_dir=DATA_DIR\n",
    "train_data = datasets.ImageFolder(img_dir,transform=train_transforms)\n",
    "\n",
    "print(f\"{GREEN}Data loaded and transformed.{RESET}\")"
   ]
  },
  {
   "cell_type": "code",
   "execution_count": 189,
   "metadata": {
    "_uuid": "7955aca66f96447427238e32459b010a9459e674",
    "colab": {
     "base_uri": "https://localhost:8080/"
    },
    "id": "sAnSUO_lvYvx",
    "outputId": "6694458b-ee7a-4414-8c0b-61a776809eb2"
   },
   "outputs": [
    {
     "name": "stdout",
     "output_type": "stream",
     "text": [
      "\u001b[94mTotal length:\u001b[0m\n",
      "27558\n",
      "\n",
      "\u001b[92mTrain length:\u001b[0m\n",
      "19291\n",
      "\n",
      "\u001b[93mValidation length:\u001b[0m\n",
      "5511\n",
      "\n",
      "\u001b[93mTest length:\u001b[0m\n",
      "2756\n"
     ]
    }
   ],
   "source": [
    "# number of subprocesses to use for data loading\n",
    "num_workers = 0\n",
    "\n",
    "# percentage of training set to use as validation\n",
    "valid_size = 0.2\n",
    "\n",
    "# Percentage of training set to use as test\n",
    "test_size = 0.1\n",
    "\n",
    "# convert data to a normalized torch.FloatTensor\n",
    "transform = transforms.Compose([\n",
    "    transforms.ToTensor(),\n",
    "    transforms.Normalize((0.5, 0.5, 0.5), (0.5, 0.5, 0.5))\n",
    "    ])\n",
    "\n",
    "# obtain training indices that will be used for validation\n",
    "num_train = len(train_data)\n",
    "indices = list(range(num_train))\n",
    "np.random.shuffle(indices)\n",
    "valid_split = int(np.floor((valid_size) * num_train))\n",
    "test_split = int(np.floor((valid_size+test_size) * num_train))\n",
    "valid_idx, test_idx, train_idx = indices[:valid_split], indices[valid_split:test_split], indices[test_split:]\n",
    "\n",
    "print(f\"{BLUE}Total length:{RESET}\")\n",
    "print(num_train)\n",
    "print(f\"\\n{GREEN}Train length:{RESET}\")\n",
    "print(len(train_idx))\n",
    "print(f\"\\n{YELLOW}Validation length:{RESET}\")\n",
    "print(len(valid_idx))\n",
    "print(f\"\\n{YELLOW}Test length:{RESET}\")\n",
    "print(len(test_idx))\n",
    "\n",
    "# define samplers for obtaining training and validation batches\n",
    "train_sampler = SubsetRandomSampler(train_idx)\n",
    "valid_sampler = SubsetRandomSampler(valid_idx)\n",
    "test_sampler = SubsetRandomSampler(test_idx)\n",
    "\n",
    "# prepare data loaders (combine dataset and sampler)\n",
    "train_loader = torch.utils.data.DataLoader(train_data, batch_size=BATCH_SIZE, sampler=train_sampler, num_workers=num_workers)\n",
    "valid_loader = torch.utils.data.DataLoader(train_data, batch_size=32, sampler=valid_sampler, num_workers=num_workers)\n",
    "test_loader = torch.utils.data.DataLoader(train_data, batch_size=20, sampler=test_sampler, num_workers=num_workers)"
   ]
  },
  {
   "cell_type": "markdown",
   "metadata": {},
   "source": [
    "## Model Selection"
   ]
  },
  {
   "cell_type": "markdown",
   "metadata": {},
   "source": [
    "### Small custom model"
   ]
  },
  {
   "cell_type": "code",
   "execution_count": 190,
   "metadata": {},
   "outputs": [],
   "source": [
    "class CNNModel(nn.Module):\n",
    "    def __init__(self):\n",
    "        super(CNNModel, self).__init__()\n",
    "\n",
    "        self.conv_layers = nn.Sequential(\n",
    "            nn.Conv2d(3, 32, kernel_size=3),  # \n",
    "            nn.ReLU(),\n",
    "            nn.MaxPool2d(2),\n",
    "            nn.Conv2d(32, 64, kernel_size=3),\n",
    "            nn.ReLU(),\n",
    "            nn.MaxPool2d(2),\n",
    "            nn.Conv2d(64, 128, kernel_size=3),\n",
    "            nn.ReLU(),\n",
    "            nn.MaxPool2d(2),\n",
    "        )\n",
    "\n",
    "        # Use dummy input of size 224x224 to match transforms\n",
    "        with torch.no_grad():\n",
    "            dummy_input = torch.zeros(1, 3, 224, 224)\n",
    "            dummy_output = self.conv_layers(dummy_input)\n",
    "            self.flattened_size = dummy_output.view(1, -1).shape[1]\n",
    "            print(f\"[DEBUG] Flattened size: {self.flattened_size}\")\n",
    "\n",
    "        self.fc_layers = nn.Sequential(\n",
    "            nn.Linear(self.flattened_size, 128),\n",
    "            nn.ReLU(),\n",
    "            nn.Dropout(0.3),\n",
    "            nn.Linear(128, 2)\n",
    "        )\n",
    "\n",
    "    def forward(self, x):\n",
    "        x = self.conv_layers(x)\n",
    "        x = x.view(x.size(0), -1)\n",
    "        x = self.fc_layers(x)\n",
    "        return x\n",
    "\n",
    "\n",
    "class SimpleCNN(nn.Module):\n",
    "    def __init__(self):\n",
    "        super(SimpleCNN, self).__init__()\n",
    "\n",
    "        self.conv_layers = nn.Sequential(\n",
    "            nn.Conv2d(3, 16, kernel_size=3, padding=1),  # Fewer filters\n",
    "            nn.ReLU(),\n",
    "            nn.MaxPool2d(2),  # 112x112\n",
    "            nn.Conv2d(16, 32, kernel_size=3, padding=1),\n",
    "            nn.ReLU(),\n",
    "            nn.MaxPool2d(2),  # 56x56\n",
    "        )\n",
    "\n",
    "        # Dynamically calculate the flattened size\n",
    "        with torch.no_grad():\n",
    "            dummy_input = torch.zeros(1, 3, 224, 224)\n",
    "            dummy_output = self.conv_layers(dummy_input)\n",
    "            self.flattened_size = dummy_output.view(1, -1).shape[1]\n",
    "            print(f\"[DEBUG] Flattened size: {self.flattened_size}\")\n",
    "\n",
    "        self.fc_layers = nn.Sequential(\n",
    "            nn.Linear(self.flattened_size, 64),\n",
    "            nn.ReLU(),\n",
    "            nn.Dropout(0.3),\n",
    "            nn.Linear(64, 2)\n",
    "        )\n",
    "\n",
    "    def forward(self, x):\n",
    "        x = self.conv_layers(x)\n",
    "        x = x.view(x.size(0), -1)\n",
    "        x = self.fc_layers(x)\n",
    "        return x\n",
    "\n",
    "\n",
    "class UltraFastCNN(nn.Module):\n",
    "    def __init__(self):\n",
    "        super(UltraFastCNN, self).__init__()\n",
    "\n",
    "        self.conv_layers = nn.Sequential(\n",
    "            nn.Conv2d(3, 8, kernel_size=3, padding=1),  # Way fewer filters\n",
    "            nn.ReLU(),\n",
    "            nn.MaxPool2d(2),  # 112x112\n",
    "        )\n",
    "\n",
    "        with torch.no_grad():\n",
    "            dummy_input = torch.zeros(1, 3, 224, 224)\n",
    "            dummy_output = self.conv_layers(dummy_input)\n",
    "            self.flattened_size = dummy_output.view(1, -1).shape[1]\n",
    "            print(f\"[DEBUG] Flattened size: {self.flattened_size}\")\n",
    "\n",
    "        self.fc_layers = nn.Sequential(\n",
    "            nn.Linear(self.flattened_size, 16),\n",
    "            nn.ReLU(),\n",
    "            nn.Linear(16, 2)\n",
    "        )\n",
    "\n",
    "    def forward(self, x):\n",
    "        x = self.conv_layers(x)\n",
    "        x = x.view(x.size(0), -1)\n",
    "        x = self.fc_layers(x)\n",
    "        return x\n",
    "\n",
    "\n",
    "class Model_Seb(nn.Module):\n",
    "    def __init__(self, num_classes=2):\n",
    "        super(Model_Seb, self).__init__()\n",
    "\n",
    "        # Bloc convolutif\n",
    "        self.conv_layers = nn.Sequential(\n",
    "            nn.Conv2d(3, 32, kernel_size=3, padding=1),\n",
    "            nn.BatchNorm2d(32),\n",
    "            nn.ReLU(),\n",
    "            nn.MaxPool2d(2),  # 64x64\n",
    "\n",
    "            nn.Conv2d(32, 64, kernel_size=3, padding=1),\n",
    "            nn.BatchNorm2d(64),\n",
    "            nn.ReLU(),\n",
    "            nn.MaxPool2d(2),  # 32x32\n",
    "\n",
    "            nn.Conv2d(64, 128, kernel_size=3, padding=1),\n",
    "            nn.BatchNorm2d(128),\n",
    "            nn.ReLU(),\n",
    "            nn.MaxPool2d(2),  # 16x16\n",
    "        )\n",
    "\n",
    "        # GAP\n",
    "        self.gap = nn.AdaptiveAvgPool2d((1, 1))\n",
    "\n",
    "        # Calcul dynamique de la taille d'entrée pour les couches fully connected\n",
    "        with torch.no_grad():\n",
    "            dummy_input = torch.zeros(1, 3, 128, 128)\n",
    "            dummy_output = self.gap(self.conv_layers(dummy_input))\n",
    "            self.flattened_size = dummy_output.view(1, -1).shape[1]\n",
    "            print(f\"[DEBUG] Flattened size: {self.flattened_size}\")\n",
    "\n",
    "        # Bloc de couches entièrement connectées\n",
    "        self.fc_layers = nn.Sequential(\n",
    "            nn.Linear(self.flattened_size, 128),\n",
    "            nn.ReLU(),\n",
    "            nn.Dropout(0.5),\n",
    "            nn.Linear(128, num_classes)\n",
    "        )\n",
    "\n",
    "    def forward(self, x):\n",
    "        x = self.conv_layers(x)\n",
    "        x = self.gap(x)\n",
    "        x = x.view(x.size(0), -1)\n",
    "        x = self.fc_layers(x)\n",
    "        return x"
   ]
  },
  {
   "cell_type": "markdown",
   "metadata": {
    "_uuid": "50041f842e818a4cb38665cafc8bdc36798e97e3",
    "id": "1V3EGYX3vYvy"
   },
   "source": [
    "### ResNet50 Model"
   ]
  },
  {
   "cell_type": "code",
   "execution_count": 191,
   "metadata": {
    "_uuid": "fb07bd7c2f161ffc78cb09d5107b7f3350f62f1b",
    "colab": {
     "base_uri": "https://localhost:8080/"
    },
    "id": "iNGT6s6OvYvz",
    "outputId": "b2e3d393-f93b-4f95-85aa-acd04e848904"
   },
   "outputs": [],
   "source": [
    "# model = models.resnet50(weights=ResNet50_Weights.DEFAULT)\n",
    "\n",
    "# for param in model.parameters():\n",
    "#     param.requires_grad = False\n",
    "\n",
    "# model.fc = nn.Linear(2048, 2, bias=True)\n",
    "\n",
    "# fc_parameters = model.fc.parameters()\n",
    "\n",
    "# for param in fc_parameters:\n",
    "#     param.requires_grad = True\n",
    "\n",
    "# print(f\"{GREEN}Model loaded.{RESET}\\n\")\n",
    "\n",
    "# model # Display Model details - comment out if not needed"
   ]
  },
  {
   "cell_type": "markdown",
   "metadata": {},
   "source": [
    "### Model selector"
   ]
  },
  {
   "cell_type": "code",
   "execution_count": 192,
   "metadata": {},
   "outputs": [
    {
     "name": "stdout",
     "output_type": "stream",
     "text": [
      "[DEBUG] Flattened size: 100352\n",
      "ULTRAFAST - \u001b[92mModel loaded successfully.\u001b[0m\n",
      "\n"
     ]
    }
   ],
   "source": [
    "if USE_MODEL == 'resnet50':\n",
    "    model = models.resnet50(weights=ResNet50_Weights.DEFAULT)\n",
    "\n",
    "    for param in model.parameters():\n",
    "        param.requires_grad = False\n",
    "\n",
    "    model.fc = nn.Linear(2048, NUM_CLASSES)\n",
    "    for param in model.fc.parameters():\n",
    "        param.requires_grad = True\n",
    "\n",
    "    optimizer = optim.SGD(model.fc.parameters(), lr=LEARNING_RATE, momentum=0.9)\n",
    "\n",
    "elif USE_MODEL == 'custom':\n",
    "    # model = CNNModel(num_classes=NUM_CLASSES)\n",
    "    model = CNNModel()\n",
    "    optimizer = optim.SGD(model.parameters(), lr=LEARNING_RATE, momentum=0.9)\n",
    "\n",
    "elif USE_MODEL == 'simple':\n",
    "    # model = CNNModel(num_classes=NUM_CLASSES)\n",
    "    model = SimpleCNN()\n",
    "    optimizer = optim.SGD(model.parameters(), lr=LEARNING_RATE, momentum=0.9)\n",
    "\n",
    "elif USE_MODEL == 'ultrafast':\n",
    "    # model = CNNModel(num_classes=NUM_CLASSES)\n",
    "    model = UltraFastCNN()\n",
    "    optimizer = optim.SGD(model.parameters(), lr=LEARNING_RATE, momentum=0.9)\n",
    "\n",
    "elif USE_MODEL == 'seb':\n",
    "    # model = CNNModel(num_classes=NUM_CLASSES)\n",
    "    model = Model_Seb()\n",
    "    # optimizer = optim.SGD(model.parameters(), lr=LEARNING_RATE, momentum=0.9)\n",
    "    optimizer = torch.optim.Adam(model.parameters(), lr=LEARNING_RATE)\n",
    "\n",
    "else:\n",
    "    raise ValueError(f\"Unknown model type: {USE_MODEL}\")\n",
    "\n",
    "criterion = nn.CrossEntropyLoss()\n",
    "\n",
    "print(f\"{USE_MODEL.upper()} - {GREEN}Model loaded successfully.{RESET}\\n\")"
   ]
  },
  {
   "cell_type": "code",
   "execution_count": 193,
   "metadata": {
    "_uuid": "055d00bdda33b6d49645f94cd83109439e0cd238",
    "colab": {
     "base_uri": "https://localhost:8080/"
    },
    "id": "oJiHzu5_vYv2",
    "outputId": "61c83bcf-5275-44fc-86ec-183b93436117"
   },
   "outputs": [],
   "source": [
    "if actual_device == 'GPU': # See later if I can relocate this to Model selection\n",
    "    use_cuda = torch.cuda.is_available()\n",
    "\n",
    "    if use_cuda:\n",
    "        model = model.cuda()\n",
    "\n",
    "# criterion = nn.CrossEntropyLoss()\n",
    "# optimizer = optim.SGD(model.fc.parameters(), lr=LEARNING_RATE , momentum=0.9)\n",
    "\n",
    "# print(f\"{GREEN}Cross entropy loss and SGD optimizer loaded.{RESET}\\n\")"
   ]
  },
  {
   "cell_type": "markdown",
   "metadata": {
    "_uuid": "ff47e88ab79c7bde1cefd3c2ea97fa177010f5a1",
    "id": "tQF9a714vYv2"
   },
   "source": [
    "## Model Training"
   ]
  },
  {
   "cell_type": "code",
   "execution_count": 194,
   "metadata": {
    "_uuid": "a256dad508dc7acd182e1df6faad1287d540b842",
    "id": "qzL0vYhwvYv3"
   },
   "outputs": [],
   "source": [
    "\n",
    "import os\n",
    "import torch\n",
    "\n",
    "def load_checkpoint(save_path, model, optimizer):\n",
    "    if os.path.exists(save_path):\n",
    "        print(f\"{YELLOW}Checkpoint found! Resuming training...{RESET}\")\n",
    "        checkpoint = torch.load(save_path)\n",
    "        model.load_state_dict(checkpoint['model_state_dict'])\n",
    "        optimizer.load_state_dict(checkpoint['optimizer_state_dict'])\n",
    "        return (checkpoint['epoch'] + 1,\n",
    "                checkpoint['valid_loss_min'],\n",
    "                checkpoint['epochs_no_improve'])\n",
    "    else:\n",
    "        return 1, float('inf'), 0\n",
    "\n",
    "def train(n_epochs, model, optimizer, criterion, use_cuda, save_path, patience=5):\n",
    "    \"\"\"Train model with early stopping, tqdm, and accuracy tracking.\"\"\"\n",
    "    \n",
    "    # Load checkpoint if exists\n",
    "    start_epoch, valid_loss_min, epochs_no_improve = load_checkpoint(save_path, model, optimizer)\n",
    "\n",
    "    valid_loss_min = np.inf\n",
    "    epochs_no_improve = 0\n",
    "    best_model_wts = None\n",
    "    train_losses = []\n",
    "    val_losses = []\n",
    "    train_accuracies = []\n",
    "    val_accuracies = []\n",
    "\n",
    "    for epoch in range(1, n_epochs + 1):\n",
    "        train_loss = 0.0\n",
    "        valid_loss = 0.0\n",
    "        correct_train = 0\n",
    "        total_train = 0\n",
    "        correct_val = 0\n",
    "        total_val = 0\n",
    "\n",
    "        ###################\n",
    "        # train the model #\n",
    "        ###################\n",
    "        model.train()\n",
    "        train_loader_tqdm = tqdm(train_loader, desc=f\"{YELLOW}Epoch {RESET}{epoch}/{n_epochs} [{YELLOW}Training{RESET}]\", leave=False)\n",
    "\n",
    "        for batch_idx, (data, target) in enumerate(train_loader_tqdm):\n",
    "            if use_cuda:\n",
    "                data, target = data.cuda(), target.cuda()\n",
    "\n",
    "            optimizer.zero_grad()\n",
    "            output = model(data)\n",
    "            loss = criterion(output, target)\n",
    "            loss.backward()\n",
    "            optimizer.step()\n",
    "\n",
    "            train_loss = train_loss + ((1 / (batch_idx + 1)) * (loss.data - train_loss))\n",
    "\n",
    "            # Accuracy\n",
    "            _, predicted = torch.max(output.data, 1)\n",
    "            correct_train += (predicted == target).sum().item()\n",
    "            total_train += target.size(0)\n",
    "\n",
    "            train_loader_tqdm.set_postfix(loss=train_loss.item())\n",
    "\n",
    "        ######################\n",
    "        # validate the model #\n",
    "        ######################\n",
    "        model.eval()\n",
    "        with torch.no_grad():\n",
    "            valid_loader_tqdm = tqdm(valid_loader, desc=f\"{GREEN}Epoch {RESET}{epoch}/{n_epochs} [{GREEN}Validation{RESET}]\", leave=False)\n",
    "\n",
    "            for batch_idx, (data, target) in enumerate(valid_loader_tqdm):\n",
    "                if use_cuda:\n",
    "                    data, target = data.cuda(), target.cuda()\n",
    "\n",
    "                output = model(data)\n",
    "                loss = criterion(output, target)\n",
    "                valid_loss = valid_loss + ((1 / (batch_idx + 1)) * (loss.data - valid_loss))\n",
    "\n",
    "                # Accuracy\n",
    "                _, predicted = torch.max(output.data, 1)\n",
    "                correct_val += (predicted == target).sum().item()\n",
    "                total_val += target.size(0)\n",
    "\n",
    "                valid_loader_tqdm.set_postfix(val_loss=valid_loss.item())\n",
    "\n",
    "        # Accuracy calculations\n",
    "        train_accuracy = 100 * correct_train / total_train\n",
    "        val_accuracy = 100 * correct_val / total_val\n",
    "\n",
    "        # Save stats\n",
    "        train_losses.append(train_loss.item())\n",
    "        val_losses.append(valid_loss.item())\n",
    "        train_accuracies.append(train_accuracy)\n",
    "        val_accuracies.append(val_accuracy)\n",
    "\n",
    "        # Print stats\n",
    "        print(f\"{GREEN}Epoch: {RESET}{epoch} \"\n",
    "              f\"\\t{BLUE}Train Loss: {RESET}{train_loss:.6f} | {BLUE}Train Acc: {RESET}{train_accuracy:.2f}% \"\n",
    "              f\"\\t{BLUE}Val Loss: {RESET}{valid_loss:.6f} | {BLUE}Val Acc: {RESET}{val_accuracy:.2f}%\")\n",
    "\n",
    "        ########################\n",
    "        # early stopping check #\n",
    "        ########################\n",
    "        if valid_loss < valid_loss_min:\n",
    "            # torch.save(model.state_dict(), save_path)\n",
    "            torch.save({\n",
    "                'epoch': epoch,\n",
    "                'model_state_dict': model.state_dict(),\n",
    "                'optimizer_state_dict': optimizer.state_dict(),\n",
    "                'valid_loss_min': valid_loss_min,\n",
    "                'epochs_no_improve': epochs_no_improve,\n",
    "            }, save_path)\n",
    "            print(f\"{YELLOW}Validation loss decreased {RESET}({valid_loss_min:.6f} --> {valid_loss:.6f}). {YELLOW}Saving model...{RESET}\\n\")\n",
    "            valid_loss_min = valid_loss\n",
    "            epochs_no_improve = 0\n",
    "            best_model_wts = model.state_dict()\n",
    "        else:\n",
    "            epochs_no_improve += 1\n",
    "            print(f\"{YELLOW}No improvement in validation loss for {epochs_no_improve} epoch(s).{RESET}\\n\")\n",
    "\n",
    "        if epochs_no_improve >= patience:\n",
    "            print(f\"\\n{YELLOW}Early stopping triggered after {patience} epochs with no improvement.{RESET}\")\n",
    "            break\n",
    "\n",
    "    if best_model_wts:\n",
    "        model.load_state_dict(best_model_wts)\n",
    "\n",
    "    return model, train_losses, val_losses, train_accuracies, val_accuracies"
   ]
  },
  {
   "cell_type": "code",
   "execution_count": 195,
   "metadata": {
    "colab": {
     "base_uri": "https://localhost:8080/"
    },
    "id": "zVYnV4eCE5LV",
    "outputId": "ab34000f-f8fb-4a5b-e589-20f4522c2edc"
   },
   "outputs": [
    {
     "name": "stdout",
     "output_type": "stream",
     "text": [
      "\u001b[93mUsing device: \u001b[0mCPU (fallback)\n"
     ]
    }
   ],
   "source": [
    "# Display selected device\n",
    "print(f\"{YELLOW}Using device: {RESET}{actual_device}\")"
   ]
  },
  {
   "cell_type": "code",
   "execution_count": 196,
   "metadata": {
    "_uuid": "9a555ea1d6f11757caac6efb04d89828feaacd62",
    "colab": {
     "base_uri": "https://localhost:8080/"
    },
    "id": "8NG7zoZ-vYv4",
    "outputId": "eb4e435e-e9ea-4cb7-8de1-42b74ff133cc"
   },
   "outputs": [
    {
     "name": "stdout",
     "output_type": "stream",
     "text": [
      "\u001b[93mDirectory already exists: \u001b[0msrc/static/model/\n",
      "\n"
     ]
    },
    {
     "name": "stderr",
     "output_type": "stream",
     "text": [
      "                                                                                          s, val_loss=0.647]\r"
     ]
    },
    {
     "name": "stdout",
     "output_type": "stream",
     "text": [
      "\u001b[92mEpoch: \u001b[0m1 \t\u001b[94mTrain Loss: \u001b[0m0.641378 | \u001b[94mTrain Acc: \u001b[0m63.53% \t\u001b[94mVal Loss: \u001b[0m0.646849 | \u001b[94mVal Acc: \u001b[0m63.04%\n",
      "\u001b[93mValidation loss decreased \u001b[0m(inf --> 0.646849). \u001b[93mSaving model...\u001b[0m\n",
      "\n"
     ]
    },
    {
     "name": "stderr",
     "output_type": "stream",
     "text": [
      "                                                                                          s, val_loss=0.598]\r"
     ]
    },
    {
     "name": "stdout",
     "output_type": "stream",
     "text": [
      "\u001b[92mEpoch: \u001b[0m2 \t\u001b[94mTrain Loss: \u001b[0m0.614966 | \u001b[94mTrain Acc: \u001b[0m67.04% \t\u001b[94mVal Loss: \u001b[0m0.598315 | \u001b[94mVal Acc: \u001b[0m69.01%\n",
      "\u001b[93mValidation loss decreased \u001b[0m(0.646849 --> 0.598315). \u001b[93mSaving model...\u001b[0m\n",
      "\n"
     ]
    },
    {
     "name": "stderr",
     "output_type": "stream",
     "text": [
      "                                                                                          s, val_loss=0.578]\r"
     ]
    },
    {
     "name": "stdout",
     "output_type": "stream",
     "text": [
      "\u001b[92mEpoch: \u001b[0m3 \t\u001b[94mTrain Loss: \u001b[0m0.592097 | \u001b[94mTrain Acc: \u001b[0m69.34% \t\u001b[94mVal Loss: \u001b[0m0.578115 | \u001b[94mVal Acc: \u001b[0m71.17%\n",
      "\u001b[93mValidation loss decreased \u001b[0m(0.598315 --> 0.578115). \u001b[93mSaving model...\u001b[0m\n",
      "\n"
     ]
    },
    {
     "name": "stderr",
     "output_type": "stream",
     "text": [
      "                                                                                          s, val_loss=0.583]\r"
     ]
    },
    {
     "name": "stdout",
     "output_type": "stream",
     "text": [
      "\u001b[92mEpoch: \u001b[0m4 \t\u001b[94mTrain Loss: \u001b[0m0.557492 | \u001b[94mTrain Acc: \u001b[0m72.85% \t\u001b[94mVal Loss: \u001b[0m0.582624 | \u001b[94mVal Acc: \u001b[0m70.22%\n",
      "\u001b[93mNo improvement in validation loss for 1 epoch(s).\u001b[0m\n",
      "\n"
     ]
    },
    {
     "name": "stderr",
     "output_type": "stream",
     "text": [
      "                                                                                          s, val_loss=0.541]\r"
     ]
    },
    {
     "name": "stdout",
     "output_type": "stream",
     "text": [
      "\u001b[92mEpoch: \u001b[0m5 \t\u001b[94mTrain Loss: \u001b[0m0.513497 | \u001b[94mTrain Acc: \u001b[0m76.39% \t\u001b[94mVal Loss: \u001b[0m0.541329 | \u001b[94mVal Acc: \u001b[0m75.67%\n",
      "\u001b[93mValidation loss decreased \u001b[0m(0.578115 --> 0.541329). \u001b[93mSaving model...\u001b[0m\n",
      "\n"
     ]
    },
    {
     "name": "stderr",
     "output_type": "stream",
     "text": [
      "                                                                                          s, val_loss=0.452]\r"
     ]
    },
    {
     "name": "stdout",
     "output_type": "stream",
     "text": [
      "\u001b[92mEpoch: \u001b[0m6 \t\u001b[94mTrain Loss: \u001b[0m0.559175 | \u001b[94mTrain Acc: \u001b[0m71.29% \t\u001b[94mVal Loss: \u001b[0m0.452209 | \u001b[94mVal Acc: \u001b[0m81.20%\n",
      "\u001b[93mValidation loss decreased \u001b[0m(0.541329 --> 0.452209). \u001b[93mSaving model...\u001b[0m\n",
      "\n"
     ]
    },
    {
     "name": "stderr",
     "output_type": "stream",
     "text": [
      "                                                                                         /s, val_loss=0.66] \r"
     ]
    },
    {
     "name": "stdout",
     "output_type": "stream",
     "text": [
      "\u001b[92mEpoch: \u001b[0m7 \t\u001b[94mTrain Loss: \u001b[0m0.578928 | \u001b[94mTrain Acc: \u001b[0m66.07% \t\u001b[94mVal Loss: \u001b[0m0.659696 | \u001b[94mVal Acc: \u001b[0m62.53%\n",
      "\u001b[93mNo improvement in validation loss for 1 epoch(s).\u001b[0m\n",
      "\n"
     ]
    },
    {
     "name": "stderr",
     "output_type": "stream",
     "text": [
      "                                                                                          s, val_loss=0.641]\r"
     ]
    },
    {
     "name": "stdout",
     "output_type": "stream",
     "text": [
      "\u001b[92mEpoch: \u001b[0m8 \t\u001b[94mTrain Loss: \u001b[0m0.653142 | \u001b[94mTrain Acc: \u001b[0m64.31% \t\u001b[94mVal Loss: \u001b[0m0.641216 | \u001b[94mVal Acc: \u001b[0m65.74%\n",
      "\u001b[93mNo improvement in validation loss for 2 epoch(s).\u001b[0m\n",
      "\n"
     ]
    },
    {
     "name": "stderr",
     "output_type": "stream",
     "text": [
      "                                                                                          s, val_loss=0.436]\r"
     ]
    },
    {
     "name": "stdout",
     "output_type": "stream",
     "text": [
      "\u001b[92mEpoch: \u001b[0m9 \t\u001b[94mTrain Loss: \u001b[0m0.602664 | \u001b[94mTrain Acc: \u001b[0m68.67% \t\u001b[94mVal Loss: \u001b[0m0.436125 | \u001b[94mVal Acc: \u001b[0m81.15%\n",
      "\u001b[93mValidation loss decreased \u001b[0m(0.452209 --> 0.436125). \u001b[93mSaving model...\u001b[0m\n",
      "\n"
     ]
    },
    {
     "name": "stderr",
     "output_type": "stream",
     "text": [
      "                                                                                           s, val_loss=0.442]\r"
     ]
    },
    {
     "name": "stdout",
     "output_type": "stream",
     "text": [
      "\u001b[92mEpoch: \u001b[0m10 \t\u001b[94mTrain Loss: \u001b[0m0.432743 | \u001b[94mTrain Acc: \u001b[0m81.22% \t\u001b[94mVal Loss: \u001b[0m0.442422 | \u001b[94mVal Acc: \u001b[0m81.76%\n",
      "\u001b[93mNo improvement in validation loss for 1 epoch(s).\u001b[0m\n",
      "\n"
     ]
    },
    {
     "name": "stderr",
     "output_type": "stream",
     "text": [
      "                                                                                           s, val_loss=0.401]\r"
     ]
    },
    {
     "name": "stdout",
     "output_type": "stream",
     "text": [
      "\u001b[92mEpoch: \u001b[0m11 \t\u001b[94mTrain Loss: \u001b[0m0.418254 | \u001b[94mTrain Acc: \u001b[0m82.15% \t\u001b[94mVal Loss: \u001b[0m0.401218 | \u001b[94mVal Acc: \u001b[0m82.58%\n",
      "\u001b[93mValidation loss decreased \u001b[0m(0.436125 --> 0.401218). \u001b[93mSaving model...\u001b[0m\n",
      "\n"
     ]
    },
    {
     "name": "stderr",
     "output_type": "stream",
     "text": [
      "                                                                                           s, val_loss=0.694]\r"
     ]
    },
    {
     "name": "stdout",
     "output_type": "stream",
     "text": [
      "\u001b[92mEpoch: \u001b[0m12 \t\u001b[94mTrain Loss: \u001b[0m0.686552 | \u001b[94mTrain Acc: \u001b[0m51.23% \t\u001b[94mVal Loss: \u001b[0m0.693614 | \u001b[94mVal Acc: \u001b[0m49.59%\n",
      "\u001b[93mNo improvement in validation loss for 1 epoch(s).\u001b[0m\n",
      "\n"
     ]
    },
    {
     "name": "stderr",
     "output_type": "stream",
     "text": [
      "                                                                                           s, val_loss=0.693]\r"
     ]
    },
    {
     "name": "stdout",
     "output_type": "stream",
     "text": [
      "\u001b[92mEpoch: \u001b[0m13 \t\u001b[94mTrain Loss: \u001b[0m0.693398 | \u001b[94mTrain Acc: \u001b[0m49.86% \t\u001b[94mVal Loss: \u001b[0m0.692820 | \u001b[94mVal Acc: \u001b[0m50.35%\n",
      "\u001b[93mNo improvement in validation loss for 2 epoch(s).\u001b[0m\n",
      "\n"
     ]
    },
    {
     "name": "stderr",
     "output_type": "stream",
     "text": [
      "                                                                                           s, val_loss=0.693]\r"
     ]
    },
    {
     "name": "stdout",
     "output_type": "stream",
     "text": [
      "\u001b[92mEpoch: \u001b[0m14 \t\u001b[94mTrain Loss: \u001b[0m0.693891 | \u001b[94mTrain Acc: \u001b[0m50.12% \t\u001b[94mVal Loss: \u001b[0m0.693478 | \u001b[94mVal Acc: \u001b[0m49.65%\n",
      "\u001b[93mNo improvement in validation loss for 3 epoch(s).\u001b[0m\n",
      "\n"
     ]
    },
    {
     "name": "stderr",
     "output_type": "stream",
     "text": [
      "                                                                                           s, val_loss=0.692]\r"
     ]
    },
    {
     "name": "stdout",
     "output_type": "stream",
     "text": [
      "\u001b[92mEpoch: \u001b[0m15 \t\u001b[94mTrain Loss: \u001b[0m0.693281 | \u001b[94mTrain Acc: \u001b[0m49.72% \t\u001b[94mVal Loss: \u001b[0m0.692317 | \u001b[94mVal Acc: \u001b[0m51.84%\n",
      "\u001b[93mNo improvement in validation loss for 4 epoch(s).\u001b[0m\n",
      "\n"
     ]
    },
    {
     "name": "stderr",
     "output_type": "stream",
     "text": [
      "                                                                                           s, val_loss=0.652]"
     ]
    },
    {
     "name": "stdout",
     "output_type": "stream",
     "text": [
      "\u001b[92mEpoch: \u001b[0m16 \t\u001b[94mTrain Loss: \u001b[0m0.665358 | \u001b[94mTrain Acc: \u001b[0m60.95% \t\u001b[94mVal Loss: \u001b[0m0.652346 | \u001b[94mVal Acc: \u001b[0m64.27%\n",
      "\u001b[93mNo improvement in validation loss for 5 epoch(s).\u001b[0m\n",
      "\n",
      "\n",
      "\u001b[93mEarly stopping triggered after 5 epochs with no improvement.\u001b[0m\n"
     ]
    },
    {
     "name": "stderr",
     "output_type": "stream",
     "text": [
      "\r"
     ]
    }
   ],
   "source": [
    "# Check if folder exists, and create it if it doesn't\n",
    "if not os.path.exists(MODEL_DIR):\n",
    "    os.makedirs(MODEL_DIR)\n",
    "    print(f\"{YELLOW}Created directory: {RESET}{MODEL_DIR}\\n\")\n",
    "else:\n",
    "    print(f\"{YELLOW}Directory already exists: {RESET}{MODEL_DIR}\\n\")\n",
    "\n",
    "# Start Model Training\n",
    "# train(25, model, optimizer, criterion, use_cuda, 'malaria_detection.pt') # Old Model\n",
    "# trained_model = train(25, model, optimizer, criterion, use_cuda, save_path=MODEL_PATH, patience=3)\n",
    "\n",
    "model, train_losses, val_losses, train_acc, val_acc = train(\n",
    "    n_epochs=N_EPOCHS,\n",
    "    model=model,\n",
    "    optimizer=optimizer,\n",
    "    criterion=criterion,\n",
    "    use_cuda=use_cuda,\n",
    "    save_path=MODEL_PATH,\n",
    "    patience=PATIENCE\n",
    ")"
   ]
  },
  {
   "cell_type": "markdown",
   "metadata": {
    "id": "54Dci6lLE5LW"
   },
   "source": [
    "## Display Training Metrics"
   ]
  },
  {
   "cell_type": "code",
   "execution_count": 197,
   "metadata": {
    "id": "12XIXkfsE5LW"
   },
   "outputs": [],
   "source": [
    "def plot_training_metrics(train_losses, val_losses, train_acc, val_acc):\n",
    "    epochs = range(1, len(train_losses) + 1)\n",
    "\n",
    "    fig, (ax1, ax2) = plt.subplots(1, 2, figsize=(14, 5))\n",
    "\n",
    "    # Loss plot\n",
    "    ax1.plot(epochs, train_losses, label='Training Loss')\n",
    "    ax1.plot(epochs, val_losses, label='Validation Loss')\n",
    "    ax1.set_title('Loss over Epochs')\n",
    "    ax1.set_xlabel('Epoch')\n",
    "    ax1.set_ylabel('Loss')\n",
    "    ax1.legend()\n",
    "    ax1.grid(True)\n",
    "\n",
    "    # Accuracy plot\n",
    "    ax2.plot(epochs, train_acc, label='Training Accuracy')\n",
    "    ax2.plot(epochs, val_acc, label='Validation Accuracy')\n",
    "    ax2.set_title('Accuracy over Epochs')\n",
    "    ax2.set_xlabel('Epoch')\n",
    "    ax2.set_ylabel('Accuracy (%)')\n",
    "    ax2.legend()\n",
    "    ax2.grid(True)\n",
    "\n",
    "    plt.tight_layout()\n",
    "    plt.show()"
   ]
  },
  {
   "cell_type": "code",
   "execution_count": 198,
   "metadata": {
    "colab": {
     "base_uri": "https://localhost:8080/",
     "height": 507
    },
    "id": "5cFf0t7rE5LW",
    "outputId": "19a1b0d0-b308-4e12-8989-466a193743f8"
   },
   "outputs": [
    {
     "data": {
      "image/png": "[encoded data removed]",
      "text/plain": [
       "<Figure size 1400x500 with 2 Axes>"
      ]
     },
     "metadata": {},
     "output_type": "display_data"
    }
   ],
   "source": [
    "# Display training metrics\n",
    "plot_training_metrics(train_losses, val_losses, train_acc, val_acc)"
   ]
  },
  {
   "cell_type": "code",
   "execution_count": null,
   "metadata": {
    "id": "fRbID0urE5LX"
   },
   "outputs": [],
   "source": []
  }
 ],
 "metadata": {
  "accelerator": "GPU",
  "colab": {
   "gpuType": "T4",
   "provenance": []
  },
  "kaggle": {
   "accelerator": "gpu",
   "dataSources": [
    {
     "datasetId": 87153,
     "sourceId": 200743,
     "sourceType": "datasetVersion"
    }
   ],
   "dockerImageVersionId": 19667,
   "isGpuEnabled": true,
   "isInternetEnabled": false,
   "language": "python",
   "sourceType": "notebook"
  },
  "kernelspec": {
   "display_name": ".venv",
   "language": "python",
   "name": "python3"
  },
  "language_info": {
   "codemirror_mode": {
    "name": "ipython",
    "version": 3
   },
   "file_extension": ".py",
   "mimetype": "text/x-python",
   "name": "python",
   "nbconvert_exporter": "python",
   "pygments_lexer": "ipython3",
   "version": "3.12.9"
  }
 },
 "nbformat": 4,
 "nbformat_minor": 0
}
